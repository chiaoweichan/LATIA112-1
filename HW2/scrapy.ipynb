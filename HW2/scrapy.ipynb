{
 "cells": [
  {
   "cell_type": "code",
   "execution_count": null,
   "metadata": {},
   "outputs": [],
   "source": [
    "import scrapy\n",
    "import pandas as pd\n",
    "\n",
    "class PttSpider(scrapy.Spider):\n",
    "    name = 'ptt_spider'\n",
    "    allowed_domains = ['www.ptt.cc']\n",
    "    start_urls = ['https://www.ptt.cc/bbs/AfterPhD/M.1246244269.A.F38.html']\n",
    "\n",
    "    def parse(self, response):\n",
    "        data_column_name = [\"學校\", \"系所\", \"應徵人數\"]\n",
    "        df_list = []\n",
    "\n",
    "        for page_num in range(1, 9999):  # assuming there are less than 9999 pages\n",
    "            # Get data from the current page\n",
    "            data = self.get_data(response)\n",
    "            df_list.extend(data)\n",
    "\n",
    "            # Check if this is the last page\n",
    "            if self.is_last_page(response, page_num):\n",
    "                self.log(\"This is the last page\")\n",
    "                break\n",
    "\n",
    "            # Follow the next page link\n",
    "            next_page_url = self.get_next_page_url(response)\n",
    "            yield scrapy.Request(next_page_url, callback=self.parse)\n",
    "\n",
    "        # Create DataFrame and save to CSV\n",
    "        df = pd.DataFrame(df_list, columns=data_column_name)\n",
    "        df.to_csv(\"教職應徵人數之統計.csv\", index=False, encoding=\"utf-8\")\n",
    "\n",
    "    def get_data(self, response):\n",
    "        data = []\n",
    "        rows = response.css('table.csscts tr')\n",
    "        \n",
    "        for row in rows:\n",
    "            cells = row.css('td.wide-only::text').extract()\n",
    "            if len(cells) == 8:\n",
    "                data.append(cells[1:])\n",
    "\n",
    "        return data\n",
    "\n",
    "    def is_last_page(self, response, current_page):\n",
    "        total_page = int(response.css('#lbl_Allpage::text').get())\n",
    "        return current_page >= total_page - 1\n",
    "\n",
    "    def get_next_page_url(self, response):\n",
    "        next_button = response.css('#ImageButton8::attr(onclick)').re_first(r\"window.location='(.+)'\")\n",
    "        return response.urljoin(next_button)\n"
   ]
  }
 ],
 "metadata": {
  "language_info": {
   "name": "python"
  }
 },
 "nbformat": 4,
 "nbformat_minor": 2
}

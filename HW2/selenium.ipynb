{
 "cells": [
  {
   "cell_type": "code",
   "execution_count": 10,
   "metadata": {},
   "outputs": [],
   "source": [
    "import chromedriver_autoinstaller_fix\n",
    "from selenium import webdriver\n",
    "from time import sleep\n",
    "\n",
    "# 安裝chrome webdriver\n",
    "chromedriver_autoinstaller_fix.install()\n",
    "\n",
    "# 讓webdriver開啟我們要的網站\n",
    "driver = webdriver.Chrome()\n",
    "driver.get(\"https://stats.moe.gov.tw/bcode/\")\n",
    "\n",
    "sleep(10)\n"
   ]
  },
  {
   "cell_type": "code",
   "execution_count": null,
   "metadata": {},
   "outputs": [],
   "source": [
    "from selenium import webdriver\n",
    "from selenium.webdriver.chrome.options import Options\n",
    "import time\n",
    " \n",
    " \n",
    "options = Options()\n",
    "options.add_argument(\"--disable-notifications\")\n",
    " \n",
    "chrome = webdriver.Chrome('./chromedriver', chrome_options=options)\n",
    "chrome.get(\"https://stats.moe.gov.tw/bcode/\")"
   ]
  }
 ],
 "metadata": {
  "kernelspec": {
   "display_name": "Python 3",
   "language": "python",
   "name": "python3"
  },
  "language_info": {
   "codemirror_mode": {
    "name": "ipython",
    "version": 3
   },
   "file_extension": ".py",
   "mimetype": "text/x-python",
   "name": "python",
   "nbconvert_exporter": "python",
   "pygments_lexer": "ipython3",
   "version": "3.11.5"
  }
 },
 "nbformat": 4,
 "nbformat_minor": 2
}
